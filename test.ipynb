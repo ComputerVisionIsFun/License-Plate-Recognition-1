{
 "cells": [
  {
   "cell_type": "code",
   "execution_count": 19,
   "metadata": {},
   "outputs": [
    {
     "name": "stdout",
     "output_type": "stream",
     "text": [
      "<class 'tuple'>\n",
      "<class 'tuple'>\n",
      "<class 'tuple'>\n",
      "<class 'tuple'>\n"
     ]
    }
   ],
   "source": [
    "from itertools import product\n",
    "anchors = product([11, 12], [21, 22, 23])\n",
    "for p in product([1, 2], [1, 2]):\n",
    "    print(type(p))"
   ]
  },
  {
   "cell_type": "code",
   "execution_count": 2,
   "metadata": {},
   "outputs": [
    {
     "name": "stdout",
     "output_type": "stream",
     "text": [
      "xm\n"
     ]
    }
   ],
   "source": [
    "import myDataset as md\n",
    "from importlib import reload\n",
    "reload(md)\n",
    "xml_folder = '/Users/chiang-en/Desktop/LPR_dataset/xml_2/'\n",
    "Axs = [16+i*32 for i in range(13)]\n",
    "Ays = [16+i*32 for i in range(13)]\n",
    "ds = md.myDataset(xml_img_folder=xml_folder, axs=Axs, ays=Ays)"
   ]
  },
  {
   "cell_type": "code",
   "execution_count": 2,
   "metadata": {},
   "outputs": [
    {
     "data": {
      "text/plain": [
       "{'filename': 'load_2397.png',\n",
       " 'objs': [{'xmin': 442, 'xmax': 568, 'ymin': 242, 'ymax': 291}]}"
      ]
     },
     "execution_count": 2,
     "metadata": {},
     "output_type": "execute_result"
    }
   ],
   "source": [
    "ds.annos[0]"
   ]
  },
  {
   "cell_type": "code",
   "execution_count": 27,
   "metadata": {},
   "outputs": [],
   "source": [
    "import encoding as E\n",
    "import utils as U\n",
    "from importlib import reload\n",
    "Axs = [16+i*32 for i in range(13)]\n",
    "Ays = [16+i*32 for i in range(13)]\n",
    "anchor = U.Anchors(ays=Ays, axs=Axs)"
   ]
  },
  {
   "cell_type": "code",
   "execution_count": 38,
   "metadata": {},
   "outputs": [],
   "source": [
    "import yaml\n",
    "with open('config.yaml') as f:\n",
    "    parameters = yaml.safe_load(f)"
   ]
  },
  {
   "cell_type": "code",
   "execution_count": 32,
   "metadata": {},
   "outputs": [
    {
     "data": {
      "text/plain": [
       "array([1])"
      ]
     },
     "execution_count": 32,
     "metadata": {},
     "output_type": "execute_result"
    }
   ],
   "source": [
    "reload(E)\n",
    "reload(U)\n",
    "obj = {'xmin':10, 'xmax':100, 'ymin':100, 'ymax':10}\n",
    "E.find_the_nearest_anchor(anchor, obj)"
   ]
  },
  {
   "cell_type": "code",
   "execution_count": 37,
   "metadata": {},
   "outputs": [
    {
     "data": {
      "text/plain": [
       "0.0"
      ]
     },
     "execution_count": 37,
     "metadata": {},
     "output_type": "execute_result"
    }
   ],
   "source": [
    "import numpy as np\n",
    "a = np.zeros((10, 3))\n",
    "a[2, 1]"
   ]
  },
  {
   "cell_type": "code",
   "execution_count": 39,
   "metadata": {},
   "outputs": [
    {
     "data": {
      "text/plain": [
       "['16+i*32 for i in range(13)']"
      ]
     },
     "execution_count": 39,
     "metadata": {},
     "output_type": "execute_result"
    }
   ],
   "source": [
    "parameters['a']"
   ]
  },
  {
   "cell_type": "code",
   "execution_count": null,
   "metadata": {},
   "outputs": [],
   "source": []
  }
 ],
 "metadata": {
  "kernelspec": {
   "display_name": "base",
   "language": "python",
   "name": "python3"
  },
  "language_info": {
   "codemirror_mode": {
    "name": "ipython",
    "version": 3
   },
   "file_extension": ".py",
   "mimetype": "text/x-python",
   "name": "python",
   "nbconvert_exporter": "python",
   "pygments_lexer": "ipython3",
   "version": "3.8.5"
  },
  "orig_nbformat": 4
 },
 "nbformat": 4,
 "nbformat_minor": 2
}
